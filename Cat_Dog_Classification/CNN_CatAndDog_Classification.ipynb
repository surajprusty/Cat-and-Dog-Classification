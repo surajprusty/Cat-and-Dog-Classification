{
 "cells": [
  {
   "cell_type": "code",
   "execution_count": 1,
   "metadata": {},
   "outputs": [],
   "source": [
    "import tensorflow as tf\n",
    "from keras.preprocessing.image import ImageDataGenerator"
   ]
  },
  {
   "cell_type": "code",
   "execution_count": 2,
   "metadata": {},
   "outputs": [],
   "source": [
    "#DataPreprocessing of training set"
   ]
  },
  {
   "cell_type": "code",
   "execution_count": 3,
   "metadata": {},
   "outputs": [
    {
     "name": "stdout",
     "output_type": "stream",
     "text": [
      "Found 8000 images belonging to 2 classes.\n"
     ]
    }
   ],
   "source": [
    "#We apply transformation only on tranining set to avoid overfitting\n",
    "train_datagen = ImageDataGenerator(\n",
    "        rescale=1./255,\n",
    "        shear_range=0.2,\n",
    "        zoom_range=0.2,\n",
    "        horizontal_flip=True)#Rescale is similar to feature scaling which will convert pixel between 0 to 1\n",
    "training_set = train_datagen.flow_from_directory(\n",
    "        'dataset/training_set',\n",
    "        target_size=(64, 64),\n",
    "        batch_size=32,\n",
    "        class_mode='binary')"
   ]
  },
  {
   "cell_type": "code",
   "execution_count": 4,
   "metadata": {},
   "outputs": [],
   "source": [
    "#DataPreprocessing of test set"
   ]
  },
  {
   "cell_type": "code",
   "execution_count": 5,
   "metadata": {},
   "outputs": [
    {
     "name": "stdout",
     "output_type": "stream",
     "text": [
      "Found 2000 images belonging to 2 classes.\n"
     ]
    }
   ],
   "source": [
    "test_datagen = ImageDataGenerator(rescale=1./255)\n",
    "test_set = test_datagen.flow_from_directory(\n",
    "        'dataset/test_set',\n",
    "        target_size=(64, 64),\n",
    "        batch_size=32,\n",
    "        class_mode='binary')"
   ]
  },
  {
   "cell_type": "code",
   "execution_count": 6,
   "metadata": {},
   "outputs": [],
   "source": [
    "#Initialisig CNN"
   ]
  },
  {
   "cell_type": "code",
   "execution_count": 7,
   "metadata": {},
   "outputs": [],
   "source": [
    "cnn=tf.keras.models.Sequential()#cnn instance of the sequential class"
   ]
  },
  {
   "cell_type": "code",
   "execution_count": 8,
   "metadata": {},
   "outputs": [],
   "source": [
    "#Convolution"
   ]
  },
  {
   "cell_type": "code",
   "execution_count": 9,
   "metadata": {},
   "outputs": [],
   "source": [
    "cnn.add(tf.keras.layers.Conv2D(filters=32,kernel_size=3,activation='relu',input_shape=[64,64,3]))"
   ]
  },
  {
   "cell_type": "code",
   "execution_count": 10,
   "metadata": {},
   "outputs": [],
   "source": [
    "#Pooling"
   ]
  },
  {
   "cell_type": "code",
   "execution_count": 11,
   "metadata": {},
   "outputs": [],
   "source": [
    "cnn.add(tf.keras.layers.MaxPool2D(pool_size=2,strides=2))"
   ]
  },
  {
   "cell_type": "code",
   "execution_count": 12,
   "metadata": {},
   "outputs": [],
   "source": [
    "#Second Convolutional Layer"
   ]
  },
  {
   "cell_type": "code",
   "execution_count": 13,
   "metadata": {},
   "outputs": [],
   "source": [
    "cnn.add(tf.keras.layers.Conv2D(filters=32,kernel_size=3,activation='relu'))#input_shape will not be used for second layer as it is used in first layer to connect to the input layer\n",
    "cnn.add(tf.keras.layers.MaxPool2D(pool_size=2,strides=2))"
   ]
  },
  {
   "cell_type": "code",
   "execution_count": 14,
   "metadata": {},
   "outputs": [],
   "source": [
    "#Flattening"
   ]
  },
  {
   "cell_type": "code",
   "execution_count": 15,
   "metadata": {},
   "outputs": [],
   "source": [
    "cnn.add(tf.keras.layers.Flatten())#used to convert images into one dimensional vector "
   ]
  },
  {
   "cell_type": "code",
   "execution_count": 16,
   "metadata": {},
   "outputs": [],
   "source": [
    "#Full connection"
   ]
  },
  {
   "cell_type": "code",
   "execution_count": 17,
   "metadata": {},
   "outputs": [],
   "source": [
    "cnn.add(tf.keras.layers.Dense(units=128,activation='relu'))"
   ]
  },
  {
   "cell_type": "code",
   "execution_count": 18,
   "metadata": {},
   "outputs": [],
   "source": [
    "#Output Layer"
   ]
  },
  {
   "cell_type": "code",
   "execution_count": 19,
   "metadata": {},
   "outputs": [],
   "source": [
    "cnn.add(tf.keras.layers.Dense(units=1,activation='sigmoid'))"
   ]
  },
  {
   "cell_type": "code",
   "execution_count": 20,
   "metadata": {},
   "outputs": [],
   "source": [
    "#Compiling the CNN"
   ]
  },
  {
   "cell_type": "code",
   "execution_count": 21,
   "metadata": {},
   "outputs": [],
   "source": [
    "cnn.compile(optimizer='adam',loss='binary_crossentropy',metrics=['accuracy'])"
   ]
  },
  {
   "cell_type": "code",
   "execution_count": 22,
   "metadata": {},
   "outputs": [],
   "source": [
    "#Training the CNN"
   ]
  },
  {
   "cell_type": "code",
   "execution_count": 23,
   "metadata": {},
   "outputs": [
    {
     "name": "stdout",
     "output_type": "stream",
     "text": [
      "Epoch 1/25\n",
      "250/250 [==============================] - 102s 407ms/step - loss: 0.6421 - accuracy: 0.6198 - val_loss: 0.6073 - val_accuracy: 0.6600\n",
      "Epoch 2/25\n",
      "250/250 [==============================] - 97s 386ms/step - loss: 0.5675 - accuracy: 0.7100 - val_loss: 0.5303 - val_accuracy: 0.7400\n",
      "Epoch 3/25\n",
      "250/250 [==============================] - 95s 380ms/step - loss: 0.5297 - accuracy: 0.7386 - val_loss: 0.5662 - val_accuracy: 0.7205\n",
      "Epoch 4/25\n",
      "250/250 [==============================] - 96s 383ms/step - loss: 0.5119 - accuracy: 0.7444 - val_loss: 0.4893 - val_accuracy: 0.7670\n",
      "Epoch 5/25\n",
      "250/250 [==============================] - 98s 394ms/step - loss: 0.4893 - accuracy: 0.7629 - val_loss: 0.5365 - val_accuracy: 0.7370\n",
      "Epoch 6/25\n",
      "250/250 [==============================] - 98s 390ms/step - loss: 0.4813 - accuracy: 0.7615 - val_loss: 0.4688 - val_accuracy: 0.7730\n",
      "Epoch 7/25\n",
      "250/250 [==============================] - 98s 391ms/step - loss: 0.4605 - accuracy: 0.7806 - val_loss: 0.4864 - val_accuracy: 0.7690\n",
      "Epoch 8/25\n",
      "250/250 [==============================] - 94s 377ms/step - loss: 0.4465 - accuracy: 0.7937 - val_loss: 0.4426 - val_accuracy: 0.7980\n",
      "Epoch 9/25\n",
      "250/250 [==============================] - 97s 388ms/step - loss: 0.4309 - accuracy: 0.7985 - val_loss: 0.4590 - val_accuracy: 0.7905\n",
      "Epoch 10/25\n",
      "250/250 [==============================] - 94s 377ms/step - loss: 0.4187 - accuracy: 0.8051 - val_loss: 0.4520 - val_accuracy: 0.7950\n",
      "Epoch 11/25\n",
      "250/250 [==============================] - 96s 383ms/step - loss: 0.4084 - accuracy: 0.8108 - val_loss: 0.4457 - val_accuracy: 0.7995\n",
      "Epoch 12/25\n",
      "250/250 [==============================] - 99s 397ms/step - loss: 0.3963 - accuracy: 0.8175 - val_loss: 0.4568 - val_accuracy: 0.7930\n",
      "Epoch 13/25\n",
      "250/250 [==============================] - 99s 394ms/step - loss: 0.3812 - accuracy: 0.8191 - val_loss: 0.4445 - val_accuracy: 0.8060\n",
      "Epoch 14/25\n",
      "250/250 [==============================] - 99s 396ms/step - loss: 0.3810 - accuracy: 0.8255 - val_loss: 0.4432 - val_accuracy: 0.8030\n",
      "Epoch 15/25\n",
      "250/250 [==============================] - 94s 376ms/step - loss: 0.3669 - accuracy: 0.8324 - val_loss: 0.4398 - val_accuracy: 0.8010\n",
      "Epoch 16/25\n",
      "250/250 [==============================] - 94s 377ms/step - loss: 0.3544 - accuracy: 0.8394 - val_loss: 0.4912 - val_accuracy: 0.7840\n",
      "Epoch 17/25\n",
      "250/250 [==============================] - 95s 379ms/step - loss: 0.3489 - accuracy: 0.8409 - val_loss: 0.4355 - val_accuracy: 0.8115\n",
      "Epoch 18/25\n",
      "250/250 [==============================] - 96s 382ms/step - loss: 0.3277 - accuracy: 0.8533 - val_loss: 0.4777 - val_accuracy: 0.8095\n",
      "Epoch 19/25\n",
      "250/250 [==============================] - 93s 371ms/step - loss: 0.3188 - accuracy: 0.8595 - val_loss: 0.4662 - val_accuracy: 0.8090\n",
      "Epoch 20/25\n",
      "250/250 [==============================] - 99s 394ms/step - loss: 0.3116 - accuracy: 0.8618 - val_loss: 0.4643 - val_accuracy: 0.8015\n",
      "Epoch 21/25\n",
      "250/250 [==============================] - 92s 369ms/step - loss: 0.2959 - accuracy: 0.8715 - val_loss: 0.4843 - val_accuracy: 0.8065\n",
      "Epoch 22/25\n",
      "250/250 [==============================] - 92s 369ms/step - loss: 0.2835 - accuracy: 0.8790 - val_loss: 0.5454 - val_accuracy: 0.7965\n",
      "Epoch 23/25\n",
      "250/250 [==============================] - 93s 371ms/step - loss: 0.2773 - accuracy: 0.8810 - val_loss: 0.4975 - val_accuracy: 0.7990\n",
      "Epoch 24/25\n",
      "250/250 [==============================] - 93s 371ms/step - loss: 0.2736 - accuracy: 0.8857 - val_loss: 0.5311 - val_accuracy: 0.7980\n",
      "Epoch 25/25\n",
      "250/250 [==============================] - 94s 375ms/step - loss: 0.2557 - accuracy: 0.8951 - val_loss: 0.5535 - val_accuracy: 0.7930\n"
     ]
    },
    {
     "data": {
      "text/plain": [
       "<tensorflow.python.keras.callbacks.History at 0x25f98d4bd30>"
      ]
     },
     "execution_count": 23,
     "metadata": {},
     "output_type": "execute_result"
    }
   ],
   "source": [
    "cnn.fit(x=training_set,validation_data=test_set,epochs=25)"
   ]
  },
  {
   "cell_type": "code",
   "execution_count": 29,
   "metadata": {},
   "outputs": [],
   "source": [
    "import numpy as np\n",
    "from keras.preprocessing import image\n",
    "test_image=image.load_img('dataset/single_prediction/cat_or_dog_2.jpg',target_size=(64,64))#target_size is used to have the same size as training and testing data and we have resized it to (64,64)\n",
    "test_image=image.img_to_array(test_image)#Converting image into array just as giving single data value for other predictive models as a 2D array\n",
    "test_image=np.expand_dims(test_image,axis=0)#adds extra dimension which corresponds to the batch which will contain the image into a batch\n",
    "result=cnn.predict(test_image)\n",
    "training_set.class_indices\n",
    "if result[0][0]==1:#first index is used to get the batch and the second for the element of the batch which in ths case is single image\n",
    "    prediction='dog'\n",
    "else:\n",
    "    prediction='cat'\n"
   ]
  },
  {
   "cell_type": "code",
   "execution_count": 30,
   "metadata": {},
   "outputs": [
    {
     "name": "stdout",
     "output_type": "stream",
     "text": [
      "cat\n"
     ]
    }
   ],
   "source": [
    "print(prediction)"
   ]
  },
  {
   "cell_type": "code",
   "execution_count": null,
   "metadata": {},
   "outputs": [],
   "source": []
  }
 ],
 "metadata": {
  "kernelspec": {
   "display_name": "Python 3",
   "language": "python",
   "name": "python3"
  },
  "language_info": {
   "codemirror_mode": {
    "name": "ipython",
    "version": 3
   },
   "file_extension": ".py",
   "mimetype": "text/x-python",
   "name": "python",
   "nbconvert_exporter": "python",
   "pygments_lexer": "ipython3",
   "version": "3.8.3"
  }
 },
 "nbformat": 4,
 "nbformat_minor": 4
}
